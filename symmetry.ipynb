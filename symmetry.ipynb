{
 "cells": [
  {
   "cell_type": "markdown",
   "id": "ea7e94df",
   "metadata": {},
   "source": [
    "# Tâche 5 : Symmetry"
   ]
  },
  {
   "cell_type": "markdown",
   "id": "03c2cd2b",
   "metadata": {},
   "source": [
    "Etudiez l’effet de 3 éléments de symétrie différents (pas l’identité), chacun pour 1 atome différent. Repésentez-les."
   ]
  },
  {
   "cell_type": "markdown",
   "id": "fbc0e603",
   "metadata": {},
   "source": [
    "## Introduction"
   ]
  },
  {
   "cell_type": "markdown",
   "id": "9c313ec0",
   "metadata": {},
   "source": [
    "Les opérations de symétrie sont constituées d'une matrice de rotation (Rot) 3x3 et un vecteur de translation (tau) 3x1 tel que :\n",
    "Rot * (x, y, z)^T + tau    \n",
    "Nous pouvons dès lors étudier la position initiale d'un atome et sa position finale (après l'opération de symétrie).\n",
    "\n",
    "Pour illustrer ces opérations, nous allons étudier 3 opérations de symmétrie appliquées à un atome différent du ZnCoBi : la symétrie d'inversion, la rotation d'ordre 2 et enfin la réflexion.\n",
    "\n",
    "Une première représentation de la structure du ZrCoBi est donnée dans sa maille conventionnelle. "
   ]
  },
  {
   "cell_type": "code",
   "execution_count": 105,
   "id": "23ff2edb",
   "metadata": {},
   "outputs": [],
   "source": [
    "import numpy as np\n",
    "from pymatgen.ext.matproj import MPRester\n",
    "from pymatgen.io.cif import CifWriter\n",
    "from pymatgen.io.cif import CifParser\n",
    "from IPython.display import FileLink\n",
    "from IPython.display import display\n",
    "from IPython.display import Image\n",
    "from pymatgen.symmetry.analyzer import SpacegroupAnalyzer\n",
    "\n",
    "from jupyter_jsmol import JsmolView\n",
    "from jupyter_jsmol.pymatgen import quick_view\n",
    "\n",
    "mp_key = \"XmhOs3iaP3YopOzhwHSd0LHcduZB1r1h\"\n",
    "mp_id = \"mp-31451\"\n",
    "material_name = \"ZrCoBi\""
   ]
  },
  {
   "cell_type": "code",
   "execution_count": 107,
   "id": "c89c3f1a",
   "metadata": {},
   "outputs": [
    {
     "name": "stderr",
     "output_type": "stream",
     "text": [
      "/tmp/ipykernel_1545010/1337243311.py:5: DeprecationWarning:         `get_structures` is deprecated!\n",
      "        get_structures is deprecated and will be removed in 2024. Use parse_structures instead.The only difference is that primitive defaults to False in the new parse_structures method.So parse_structures(primitive=True) is equivalent to the old behavior of get_structures().\n",
      "  prim_struc = parser.get_structures()[0]\n"
     ]
    },
    {
     "data": {
      "application/vnd.jupyter.widget-view+json": {
       "model_id": "3bc1cf9049554a2f97fa50669da91beb",
       "version_major": 2,
       "version_minor": 0
      },
      "text/plain": [
       "JsmolView(layout=Layout(align_self='stretch', height='400px'))"
      ]
     },
     "metadata": {},
     "output_type": "display_data"
    }
   ],
   "source": [
    "# Utilisation du fichier cif car le code donné ne fonctionnait pas pour mon matériau\n",
    "parser = CifParser(\"ZrCoBi.cif\")\n",
    "\n",
    "# Structure du matériau\n",
    "prim_struc = parser.get_structures()[0]\n",
    "conv_struc = SpacegroupAnalyzer(prim_struc).get_conventional_standard_structure()\n",
    "\n",
    "# Symétrie du matériau\n",
    "symmops = SpacegroupAnalyzer(conv_struc).get_space_group_operations()\n",
    "\n",
    "\n",
    "# Représentation de la structure dans sa maille conventionnelle\n",
    "#Turquoise = Zr\n",
    "#Rose = Co\n",
    "#Mauve = Bi\n",
    "view = quick_view(conv_struc)\n",
    "display(view)"
   ]
  },
  {
   "cell_type": "markdown",
   "id": "fd8728a3",
   "metadata": {},
   "source": [
    "## 1. Symétrie d'inversion de l'atome 3 (Bi)"
   ]
  },
  {
   "cell_type": "markdown",
   "id": "9b342d85",
   "metadata": {},
   "source": [
    "La symétrie d'inversion est une symétrie ponctuelle. Elle se fait selon un centre donné et inverse la chiralité."
   ]
  },
  {
   "cell_type": "code",
   "execution_count": 110,
   "id": "12d41931",
   "metadata": {},
   "outputs": [
    {
     "name": "stdout",
     "output_type": "stream",
     "text": [
      "\n",
      "-----------------------------------------\n",
      "Symétrie d'inversion de centre (0, 0, 0):\n",
      "-----------------------------------------\n",
      "\n",
      "\n",
      "Matrice de rotation (Rot) et vecteur de translation (tau):\n",
      "\n",
      "Rot:\n",
      "[[ 0.  1.  0.]\n",
      " [-1.  0.  0.]\n",
      " [ 0.  0. -1.]]\n",
      "tau\n",
      "[0. 0. 0.]\n",
      "\n",
      "Position initiale de l'atome 3 : [0.5 0.  0.5]\n",
      "\n",
      "Position finale de l'atome 3 : [ 0.  -0.5 -0.5]\n"
     ]
    },
    {
     "data": {
      "application/vnd.jupyter.widget-view+json": {
       "model_id": "e26661b6ac99450db4718e565b3637c4",
       "version_major": 2,
       "version_minor": 0
      },
      "text/plain": [
       "JsmolView(layout=Layout(align_self='stretch', height='400px'))"
      ]
     },
     "metadata": {},
     "output_type": "display_data"
    }
   ],
   "source": [
    "# Numéro de l'atome choisi\n",
    "i_atom = 3\n",
    "\n",
    "# Numéro du type de symmétrie choisie\n",
    "i_symmop = 2\n",
    "\n",
    "print(\"\\n-----------------------------------------\")\n",
    "print(\"Symétrie d'inversion de centre (0, 0, 0):\")\n",
    "print(\"-----------------------------------------\\n\")\n",
    "\n",
    "\n",
    "print(\"\\nMatrice de rotation (Rot) et vecteur de translation (tau):\\n\")\n",
    "symmop = symmops[i_symmop - 1]\n",
    "print(symmop)\n",
    "\n",
    "pos_init = conv_struc.sites[i_atom -1].frac_coords\n",
    "print(\"\\nPosition initiale de l'atome 3 :\", pos_init)\n",
    "\n",
    "\n",
    "pos_final = symmop.operate(pos_init)\n",
    "print(\"\\nPosition finale de l'atome 3 :\", pos_final)\n",
    "\n",
    "\n",
    "# Représentation\n",
    "view = quick_view(prim_struc, \"packed\", conventional = True)\n",
    "display(view)\n",
    "view.script('select Zr; color lightsalmon')\n",
    "view.script('select Co; color gold')\n",
    "view.script('select Bi; color palegreen')\n",
    "view.script('draw SYMOP ' + str(i_symmop) + ' {atomno = ' + str(i_atom) + '}')\n",
    "\n"
   ]
  },
  {
   "cell_type": "markdown",
   "id": "a642def3",
   "metadata": {},
   "source": [
    "## 2. Symétrie de rotation d'ordre 2 de l'atome 2 (Co)"
   ]
  },
  {
   "cell_type": "markdown",
   "id": "0cbc0960",
   "metadata": {},
   "source": [
    "La rotation d'ordre 2 (180°) est une symétrie ponctuelle. Elle se fait autour d'un axe et conserve la chiralité."
   ]
  },
  {
   "cell_type": "code",
   "execution_count": 112,
   "id": "6692c1a4",
   "metadata": {},
   "outputs": [
    {
     "name": "stdout",
     "output_type": "stream",
     "text": [
      "\n",
      "-------------------------------\n",
      "Symétrie de rotation d'ordre 2:\n",
      "-------------------------------\n",
      "\n",
      "\n",
      "Matrice de rotation (Rot) et vecteur de translation (tau):\n",
      "\n",
      "Rot:\n",
      "[[-1.  0.  0.]\n",
      " [ 0. -1.  0.]\n",
      " [ 0.  0.  1.]]\n",
      "tau\n",
      "[0. 0. 0.]\n",
      "\n",
      "Position initiale de l'atome 2 : [0.  0.5 0.5]\n",
      "\n",
      "Position finale de l'atome 2 : [ 0.  -0.5  0.5]\n"
     ]
    },
    {
     "data": {
      "application/vnd.jupyter.widget-view+json": {
       "model_id": "0042ef714ca9438b9a90d160c7570626",
       "version_major": 2,
       "version_minor": 0
      },
      "text/plain": [
       "JsmolView(layout=Layout(align_self='stretch', height='400px'))"
      ]
     },
     "metadata": {},
     "output_type": "display_data"
    }
   ],
   "source": [
    "# Numéro de l'atome choisi\n",
    "i_atom = 2\n",
    "\n",
    "# Numéro du type de symmétrie choisie\n",
    "i_symmop = 3\n",
    "\n",
    "print(\"\\n-------------------------------\")\n",
    "print(\"Symétrie de rotation d'ordre 2:\")\n",
    "print(\"-------------------------------\\n\")\n",
    "\n",
    "\n",
    "print(\"\\nMatrice de rotation (Rot) et vecteur de translation (tau):\\n\")\n",
    "symmop = symmops[i_symmop - 1]\n",
    "print(symmop)\n",
    "\n",
    "pos_init = conv_struc.sites[i_atom -1].frac_coords\n",
    "print(\"\\nPosition initiale de l'atome 2 :\", pos_init)\n",
    "\n",
    "pos_final = symmop.operate(pos_init)\n",
    "print(\"\\nPosition finale de l'atome 2 :\",pos_final)\n",
    "\n",
    "# Représentation\n",
    "view = quick_view(prim_struc, \"packed\", conventional = True)\n",
    "display(view)\n",
    "view.script('select Zr; color lightsalmon')\n",
    "view.script('select Co; color gold')\n",
    "view.script('select Bi; color palegreen')\n",
    "view.script('draw SYMOP ' + str(i_symmop) + ' {atomno = ' + str(i_atom) + '}')"
   ]
  },
  {
   "cell_type": "markdown",
   "id": "f87a5181",
   "metadata": {},
   "source": [
    "## 3. Symétrie de réflexion de l'atome 11  (Zn)"
   ]
  },
  {
   "cell_type": "markdown",
   "id": "886fe50c",
   "metadata": {},
   "source": [
    "La réflexion est une symétrie ponctuelle. Elle se fait par rapport à un plan mirroir (en vert sur l'image) et inverse la chiralité."
   ]
  },
  {
   "cell_type": "code",
   "execution_count": 114,
   "id": "18598614",
   "metadata": {},
   "outputs": [
    {
     "name": "stdout",
     "output_type": "stream",
     "text": [
      "\n",
      "---------------------------------------------\n",
      "Symétrie de réflexion selon un plan mirroir :\n",
      "---------------------------------------------\n",
      "\n",
      "\n",
      "Matrice de rotation (Rot) et vecteur de translation (tau):\n",
      "\n",
      "Rot:\n",
      "[[0. 1. 0.]\n",
      " [1. 0. 0.]\n",
      " [0. 0. 1.]]\n",
      "tau\n",
      "[0. 0. 0.]\n",
      "\n",
      "Position initiale de l'atome 11 : [0.5 0.  0. ]\n",
      "\n",
      "Position finale de l'atome 11 : [0.  0.5 0. ]\n"
     ]
    },
    {
     "data": {
      "application/vnd.jupyter.widget-view+json": {
       "model_id": "0a36bd7df0f44ba5a1c97a84b7726d80",
       "version_major": 2,
       "version_minor": 0
      },
      "text/plain": [
       "JsmolView(layout=Layout(align_self='stretch', height='400px'))"
      ]
     },
     "metadata": {},
     "output_type": "display_data"
    }
   ],
   "source": [
    "# Numéro de l'atome choisi\n",
    "i_atom = 11\n",
    "\n",
    "# Numéro du type de symmétrie choisie\n",
    "i_symmop = 6\n",
    "\n",
    "print(\"\\n---------------------------------------------\")\n",
    "print(\"Symétrie de réflexion selon un plan mirroir :\")\n",
    "print(\"---------------------------------------------\\n\")\n",
    "\n",
    "\n",
    "print(\"\\nMatrice de rotation (Rot) et vecteur de translation (tau):\\n\")\n",
    "symmop = symmops[i_symmop - 1]\n",
    "print(symmop)\n",
    "\n",
    "pos_init = conv_struc.sites[i_atom -1].frac_coords\n",
    "print(\"\\nPosition initiale de l'atome 11 :\", pos_init)\n",
    "\n",
    "pos_final = symmop.operate(pos_init)\n",
    "print(\"\\nPosition finale de l'atome 11 :\", pos_final)\n",
    "\n",
    "# Représentation\n",
    "view = quick_view(prim_struc, \"packed\", conventional = True)\n",
    "display(view)\n",
    "view.script('select Zr; color lightsalmon')\n",
    "view.script('select Co; color gold')\n",
    "view.script('select Bi; color palegreen')\n",
    "view.script('draw SYMOP ' + str(i_symmop) + ' {atomno = ' + str(i_atom) + '}')"
   ]
  },
  {
   "cell_type": "code",
   "execution_count": null,
   "id": "a362079c",
   "metadata": {},
   "outputs": [],
   "source": []
  }
 ],
 "metadata": {
  "kernelspec": {
   "display_name": "Python 3 (ipykernel)",
   "language": "python",
   "name": "python3"
  },
  "language_info": {
   "codemirror_mode": {
    "name": "ipython",
    "version": 3
   },
   "file_extension": ".py",
   "mimetype": "text/x-python",
   "name": "python",
   "nbconvert_exporter": "python",
   "pygments_lexer": "ipython3",
   "version": "3.9.13"
  }
 },
 "nbformat": 4,
 "nbformat_minor": 5
}
